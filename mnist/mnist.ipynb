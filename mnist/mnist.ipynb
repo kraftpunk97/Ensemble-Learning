{
  "cells": [
    {
      "cell_type": "code",
      "execution_count": 1,
      "metadata": {
        "collapsed": true,
        "id": "CTXEWDTRITIQ"
      },
      "outputs": [],
      "source": [
        "from sklearn.datasets import fetch_openml\n",
        "from sklearn.pipeline import make_pipeline\n",
        "from sklearn.preprocessing import StandardScaler\n",
        "from sklearn.tree import DecisionTreeClassifier\n",
        "from sklearn.ensemble import BaggingClassifier, RandomForestClassifier, GradientBoostingClassifier\n",
        "from sklearn.metrics import accuracy_score\n",
        "from pprint import pprint"
      ]
    },
    {
      "cell_type": "code",
      "execution_count": 2,
      "outputs": [],
      "source": [
        "X, y = fetch_openml('mnist_784', version=1, return_X_y=True, parser='auto')\n",
        "X = X / 255.0\n",
        "y = y.cat.codes\n",
        "\n",
        "X_train, X_test = X[:60000], X[60000:]\n",
        "y_train, y_test = y[:60000], y[60000:]"
      ],
      "metadata": {
        "id": "VqMLD6jLITIS"
      }
    },
    {
      "cell_type": "code",
      "execution_count": 3,
      "outputs": [],
      "source": [
        "def test_classifier(classifier, parameters=None):\n",
        "    clf_ = classifier(**parameters) if parameters is not None else classifier()\n",
        "    clf = make_pipeline(StandardScaler(), clf_)\n",
        "    pprint(clf_.get_params())\n",
        "    clf.fit(X=X_train, y=y_train)\n",
        "    y_pred = clf.predict(X_test)\n",
        "    accuracy = accuracy_score(y_true=y_test, y_pred=y_pred)\n",
        "    print(\"Accuracy of {} classifier for the MNIST dataset is {}%.\".format(clf_.__class__.__name__, accuracy*100))\n",
        "    print()\n",
        "    return accuracy"
      ],
      "metadata": {
        "id": "MeQSg_7DITIS"
      }
    },
    {
      "cell_type": "code",
      "execution_count": 4,
      "outputs": [
        {
          "output_type": "stream",
          "name": "stdout",
          "text": [
            "{'ccp_alpha': 0.0,\n",
            " 'class_weight': None,\n",
            " 'criterion': 'gini',\n",
            " 'max_depth': None,\n",
            " 'max_features': None,\n",
            " 'max_leaf_nodes': None,\n",
            " 'min_impurity_decrease': 0.0,\n",
            " 'min_samples_leaf': 1,\n",
            " 'min_samples_split': 2,\n",
            " 'min_weight_fraction_leaf': 0.0,\n",
            " 'random_state': None,\n",
            " 'splitter': 'best'}\n",
            "Accuracy of DecisionTreeClassifier classifier for the MNIST dataset is 87.97%.\n",
            "\n"
          ]
        }
      ],
      "source": [
        "dt_acc = test_classifier(DecisionTreeClassifier)"
      ],
      "metadata": {
        "colab": {
          "base_uri": "https://localhost:8080/"
        },
        "id": "6ZL5cx_1ITIT",
        "outputId": "313c8ca2-5c8f-482f-acbc-18750e0ded74"
      }
    },
    {
      "cell_type": "code",
      "execution_count": 5,
      "outputs": [
        {
          "output_type": "stream",
          "name": "stdout",
          "text": [
            "{'base_estimator': 'deprecated',\n",
            " 'bootstrap': True,\n",
            " 'bootstrap_features': False,\n",
            " 'estimator': None,\n",
            " 'max_features': 1.0,\n",
            " 'max_samples': 1.0,\n",
            " 'n_estimators': 10,\n",
            " 'n_jobs': None,\n",
            " 'oob_score': False,\n",
            " 'random_state': None,\n",
            " 'verbose': 0,\n",
            " 'warm_start': False}\n",
            "Accuracy of BaggingClassifier classifier for the MNIST dataset is 94.22%.\n",
            "\n"
          ]
        }
      ],
      "source": [
        "bag_acc = test_classifier(BaggingClassifier)"
      ],
      "metadata": {
        "colab": {
          "base_uri": "https://localhost:8080/"
        },
        "id": "80rlNGXpITIU",
        "outputId": "ab865907-a523-4209-eed4-1deb518fdb4b"
      }
    },
    {
      "cell_type": "code",
      "execution_count": 6,
      "outputs": [
        {
          "output_type": "stream",
          "name": "stdout",
          "text": [
            "{'bootstrap': True,\n",
            " 'ccp_alpha': 0.0,\n",
            " 'class_weight': None,\n",
            " 'criterion': 'gini',\n",
            " 'max_depth': None,\n",
            " 'max_features': 'sqrt',\n",
            " 'max_leaf_nodes': None,\n",
            " 'max_samples': None,\n",
            " 'min_impurity_decrease': 0.0,\n",
            " 'min_samples_leaf': 1,\n",
            " 'min_samples_split': 2,\n",
            " 'min_weight_fraction_leaf': 0.0,\n",
            " 'n_estimators': 100,\n",
            " 'n_jobs': None,\n",
            " 'oob_score': False,\n",
            " 'random_state': None,\n",
            " 'verbose': 0,\n",
            " 'warm_start': False}\n",
            "Accuracy of RandomForestClassifier classifier for the MNIST dataset is 96.94%.\n",
            "\n"
          ]
        }
      ],
      "source": [
        "rf_acc = test_classifier(RandomForestClassifier)"
      ],
      "metadata": {
        "colab": {
          "base_uri": "https://localhost:8080/"
        },
        "id": "Py9R5e2YITIU",
        "outputId": "c05b9ea7-2e67-4dd7-afba-e929e81fd139"
      }
    },
    {
      "cell_type": "code",
      "execution_count": 7,
      "outputs": [
        {
          "output_type": "stream",
          "name": "stdout",
          "text": [
            "{'ccp_alpha': 0.0,\n",
            " 'criterion': 'friedman_mse',\n",
            " 'init': None,\n",
            " 'learning_rate': 0.1,\n",
            " 'loss': 'log_loss',\n",
            " 'max_depth': 3,\n",
            " 'max_features': None,\n",
            " 'max_leaf_nodes': None,\n",
            " 'min_impurity_decrease': 0.0,\n",
            " 'min_samples_leaf': 1,\n",
            " 'min_samples_split': 2,\n",
            " 'min_weight_fraction_leaf': 0.0,\n",
            " 'n_estimators': 100,\n",
            " 'n_iter_no_change': None,\n",
            " 'random_state': None,\n",
            " 'subsample': 1.0,\n",
            " 'tol': 0.0001,\n",
            " 'validation_fraction': 0.1,\n",
            " 'verbose': 0,\n",
            " 'warm_start': False}\n",
            "Accuracy of GradientBoostingClassifier classifier for the MNIST dataset is 94.59%.\n",
            "\n"
          ]
        }
      ],
      "source": [
        "gb_acc = test_classifier(GradientBoostingClassifier)"
      ],
      "metadata": {
        "pycharm": {
          "is_executing": true
        },
        "colab": {
          "base_uri": "https://localhost:8080/"
        },
        "id": "1sZfIaRWITIU",
        "outputId": "4cc0c30b-dc5d-490f-c426-c08998521426"
      }
    },
    {
      "cell_type": "code",
      "execution_count": null,
      "outputs": [],
      "source": [],
      "metadata": {
        "id": "t0rLBMgeITIV"
      }
    }
  ],
  "metadata": {
    "kernelspec": {
      "display_name": "Python 3",
      "language": "python",
      "name": "python3"
    },
    "language_info": {
      "codemirror_mode": {
        "name": "ipython",
        "version": 2
      },
      "file_extension": ".py",
      "mimetype": "text/x-python",
      "name": "python",
      "nbconvert_exporter": "python",
      "pygments_lexer": "ipython2",
      "version": "2.7.6"
    },
    "colab": {
      "provenance": []
    }
  },
  "nbformat": 4,
  "nbformat_minor": 0
}